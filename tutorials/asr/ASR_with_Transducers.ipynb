{
  "cells": [
    {
      "cell_type": "code",
      "execution_count": 1,
      "metadata": {
        "id": "SUOXg71A3w78",
        "outputId": "ce367c4a-7d88-4702-ce47-c39184445fb2",
        "colab": {
          "base_uri": "https://localhost:8080/",
          "height": 1000
        }
      },
      "outputs": [
        {
          "output_type": "stream",
          "name": "stdout",
          "text": [
            "Collecting wget\n",
            "  Downloading wget-3.2.zip (10 kB)\n",
            "  Preparing metadata (setup.py) ... \u001b[?25l\u001b[?25hdone\n",
            "Building wheels for collected packages: wget\n",
            "  Building wheel for wget (setup.py) ... \u001b[?25l\u001b[?25hdone\n",
            "  Created wheel for wget: filename=wget-3.2-py3-none-any.whl size=9656 sha256=744a315f734a0f0cd6e7c450cace2d4a209fc6b59320e27d8fc178c404aba8e0\n",
            "  Stored in directory: /root/.cache/pip/wheels/40/b3/0f/a40dbd1c6861731779f62cc4babcb234387e11d697df70ee97\n",
            "Successfully built wget\n",
            "Installing collected packages: wget\n",
            "Successfully installed wget-3.2\n",
            "Reading package lists... Done\n",
            "Building dependency tree... Done\n",
            "Reading state information... Done\n",
            "libsndfile1 is already the newest version (1.0.31-2ubuntu0.2).\n",
            "ffmpeg is already the newest version (7:4.4.2-0ubuntu0.22.04.1).\n",
            "The following additional packages will be installed:\n",
            "  libopencore-amrnb0 libopencore-amrwb0 libsox-fmt-alsa libsox-fmt-base libsox3 libwavpack1\n",
            "Suggested packages:\n",
            "  libsox-fmt-all\n",
            "The following NEW packages will be installed:\n",
            "  libopencore-amrnb0 libopencore-amrwb0 libsox-fmt-alsa libsox-fmt-base libsox3 libwavpack1 sox\n",
            "0 upgraded, 7 newly installed, 0 to remove and 29 not upgraded.\n",
            "Need to get 617 kB of archives.\n",
            "After this operation, 1,764 kB of additional disk space will be used.\n",
            "Get:1 http://archive.ubuntu.com/ubuntu jammy/universe amd64 libopencore-amrnb0 amd64 0.1.5-1 [94.8 kB]\n",
            "Get:2 http://archive.ubuntu.com/ubuntu jammy/universe amd64 libopencore-amrwb0 amd64 0.1.5-1 [49.1 kB]\n",
            "Get:3 http://archive.ubuntu.com/ubuntu jammy-updates/universe amd64 libsox3 amd64 14.4.2+git20190427-2+deb11u2ubuntu0.22.04.1 [240 kB]\n",
            "Get:4 http://archive.ubuntu.com/ubuntu jammy-updates/universe amd64 libsox-fmt-alsa amd64 14.4.2+git20190427-2+deb11u2ubuntu0.22.04.1 [11.2 kB]\n",
            "Get:5 http://archive.ubuntu.com/ubuntu jammy/main amd64 libwavpack1 amd64 5.4.0-1build2 [83.7 kB]\n",
            "Get:6 http://archive.ubuntu.com/ubuntu jammy-updates/universe amd64 libsox-fmt-base amd64 14.4.2+git20190427-2+deb11u2ubuntu0.22.04.1 [33.7 kB]\n",
            "Get:7 http://archive.ubuntu.com/ubuntu jammy-updates/universe amd64 sox amd64 14.4.2+git20190427-2+deb11u2ubuntu0.22.04.1 [104 kB]\n",
            "Fetched 617 kB in 2s (306 kB/s)\n",
            "Selecting previously unselected package libopencore-amrnb0:amd64.\n",
            "(Reading database ... 124947 files and directories currently installed.)\n",
            "Preparing to unpack .../0-libopencore-amrnb0_0.1.5-1_amd64.deb ...\n",
            "Unpacking libopencore-amrnb0:amd64 (0.1.5-1) ...\n",
            "Selecting previously unselected package libopencore-amrwb0:amd64.\n",
            "Preparing to unpack .../1-libopencore-amrwb0_0.1.5-1_amd64.deb ...\n",
            "Unpacking libopencore-amrwb0:amd64 (0.1.5-1) ...\n",
            "Selecting previously unselected package libsox3:amd64.\n",
            "Preparing to unpack .../2-libsox3_14.4.2+git20190427-2+deb11u2ubuntu0.22.04.1_amd64.deb ...\n",
            "Unpacking libsox3:amd64 (14.4.2+git20190427-2+deb11u2ubuntu0.22.04.1) ...\n",
            "Selecting previously unselected package libsox-fmt-alsa:amd64.\n",
            "Preparing to unpack .../3-libsox-fmt-alsa_14.4.2+git20190427-2+deb11u2ubuntu0.22.04.1_amd64.deb ...\n",
            "Unpacking libsox-fmt-alsa:amd64 (14.4.2+git20190427-2+deb11u2ubuntu0.22.04.1) ...\n",
            "Selecting previously unselected package libwavpack1:amd64.\n",
            "Preparing to unpack .../4-libwavpack1_5.4.0-1build2_amd64.deb ...\n",
            "Unpacking libwavpack1:amd64 (5.4.0-1build2) ...\n",
            "Selecting previously unselected package libsox-fmt-base:amd64.\n",
            "Preparing to unpack .../5-libsox-fmt-base_14.4.2+git20190427-2+deb11u2ubuntu0.22.04.1_amd64.deb ...\n",
            "Unpacking libsox-fmt-base:amd64 (14.4.2+git20190427-2+deb11u2ubuntu0.22.04.1) ...\n",
            "Selecting previously unselected package sox.\n",
            "Preparing to unpack .../6-sox_14.4.2+git20190427-2+deb11u2ubuntu0.22.04.1_amd64.deb ...\n",
            "Unpacking sox (14.4.2+git20190427-2+deb11u2ubuntu0.22.04.1) ...\n",
            "Setting up libsox3:amd64 (14.4.2+git20190427-2+deb11u2ubuntu0.22.04.1) ...\n",
            "Setting up libopencore-amrwb0:amd64 (0.1.5-1) ...\n",
            "Setting up libsox-fmt-alsa:amd64 (14.4.2+git20190427-2+deb11u2ubuntu0.22.04.1) ...\n",
            "Setting up libwavpack1:amd64 (5.4.0-1build2) ...\n",
            "Setting up libopencore-amrnb0:amd64 (0.1.5-1) ...\n",
            "Setting up libsox-fmt-base:amd64 (14.4.2+git20190427-2+deb11u2ubuntu0.22.04.1) ...\n",
            "Setting up sox (14.4.2+git20190427-2+deb11u2ubuntu0.22.04.1) ...\n",
            "Processing triggers for libc-bin (2.35-0ubuntu3.8) ...\n",
            "/sbin/ldconfig.real: /usr/local/lib/libhwloc.so.15 is not a symbolic link\n",
            "\n",
            "/sbin/ldconfig.real: /usr/local/lib/libtbbbind_2_0.so.3 is not a symbolic link\n",
            "\n",
            "/sbin/ldconfig.real: /usr/local/lib/libur_loader.so.0 is not a symbolic link\n",
            "\n",
            "/sbin/ldconfig.real: /usr/local/lib/libtbbbind_2_5.so.3 is not a symbolic link\n",
            "\n",
            "/sbin/ldconfig.real: /usr/local/lib/libur_adapter_level_zero.so.0 is not a symbolic link\n",
            "\n",
            "/sbin/ldconfig.real: /usr/local/lib/libtbbbind.so.3 is not a symbolic link\n",
            "\n",
            "/sbin/ldconfig.real: /usr/local/lib/libur_adapter_opencl.so.0 is not a symbolic link\n",
            "\n",
            "/sbin/ldconfig.real: /usr/local/lib/libtbb.so.12 is not a symbolic link\n",
            "\n",
            "/sbin/ldconfig.real: /usr/local/lib/libtbbmalloc_proxy.so.2 is not a symbolic link\n",
            "\n",
            "/sbin/ldconfig.real: /usr/local/lib/libtbbmalloc.so.2 is not a symbolic link\n",
            "\n",
            "/sbin/ldconfig.real: /usr/local/lib/libumf.so.0 is not a symbolic link\n",
            "\n",
            "/sbin/ldconfig.real: /usr/local/lib/libtcm.so.1 is not a symbolic link\n",
            "\n",
            "/sbin/ldconfig.real: /usr/local/lib/libtcm_debug.so.1 is not a symbolic link\n",
            "\n",
            "Processing triggers for man-db (2.10.2-1) ...\n",
            "Processing triggers for mailcap (3.70+nmu1ubuntu1) ...\n",
            "Requirement already satisfied: text-unidecode in /usr/local/lib/python3.11/dist-packages (1.3)\n",
            "Collecting git+https://github.com/NVIDIA/NeMo.git\n",
            "  Cloning https://github.com/NVIDIA/NeMo.git to /tmp/pip-req-build-wahop7hq\n",
            "  Running command git clone --filter=blob:none --quiet https://github.com/NVIDIA/NeMo.git /tmp/pip-req-build-wahop7hq\n",
            "  Resolved https://github.com/NVIDIA/NeMo.git to commit d14e01bc67887895ee06f4ecb4628282f592086d\n",
            "  Installing build dependencies ... \u001b[?25l\u001b[?25hdone\n",
            "  Getting requirements to build wheel ... \u001b[?25l\u001b[?25hdone\n",
            "  Preparing metadata (pyproject.toml) ... \u001b[?25l\u001b[?25hdone\n",
            "Requirement already satisfied: huggingface_hub>=0.24 in /usr/local/lib/python3.11/dist-packages (from nemo-toolkit==2.3.0rc0) (0.28.1)\n",
            "Requirement already satisfied: numba==0.61.0 in /usr/local/lib/python3.11/dist-packages (from nemo-toolkit==2.3.0rc0) (0.61.0)\n",
            "Requirement already satisfied: numpy<2.0.0,>=1.22 in /usr/local/lib/python3.11/dist-packages (from nemo-toolkit==2.3.0rc0) (1.26.4)\n",
            "Collecting onnx>=1.7.0 (from nemo-toolkit==2.3.0rc0)\n",
            "  Downloading onnx-1.17.0-cp311-cp311-manylinux_2_17_x86_64.manylinux2014_x86_64.whl.metadata (16 kB)\n",
            "Collecting protobuf==3.20.3 (from nemo-toolkit==2.3.0rc0)\n",
            "  Downloading protobuf-3.20.3-py2.py3-none-any.whl.metadata (720 bytes)\n",
            "Requirement already satisfied: python-dateutil in /usr/local/lib/python3.11/dist-packages (from nemo-toolkit==2.3.0rc0) (2.8.2)\n",
            "Collecting ruamel.yaml (from nemo-toolkit==2.3.0rc0)\n",
            "  Downloading ruamel.yaml-0.18.10-py3-none-any.whl.metadata (23 kB)\n",
            "Requirement already satisfied: scikit-learn in /usr/local/lib/python3.11/dist-packages (from nemo-toolkit==2.3.0rc0) (1.6.1)\n",
            "Requirement already satisfied: setuptools>=70.0.0 in /usr/local/lib/python3.11/dist-packages (from nemo-toolkit==2.3.0rc0) (75.1.0)\n",
            "Requirement already satisfied: tensorboard in /usr/local/lib/python3.11/dist-packages (from nemo-toolkit==2.3.0rc0) (2.18.0)\n",
            "Requirement already satisfied: text-unidecode in /usr/local/lib/python3.11/dist-packages (from nemo-toolkit==2.3.0rc0) (1.3)\n",
            "Requirement already satisfied: torch in /usr/local/lib/python3.11/dist-packages (from nemo-toolkit==2.3.0rc0) (2.5.1+cu124)\n",
            "Requirement already satisfied: tqdm>=4.41.0 in /usr/local/lib/python3.11/dist-packages (from nemo-toolkit==2.3.0rc0) (4.67.1)\n",
            "Requirement already satisfied: wget in /usr/local/lib/python3.11/dist-packages (from nemo-toolkit==2.3.0rc0) (3.2)\n",
            "Requirement already satisfied: wrapt in /usr/local/lib/python3.11/dist-packages (from nemo-toolkit==2.3.0rc0) (1.17.2)\n",
            "Requirement already satisfied: llvmlite<0.45,>=0.44.0dev0 in /usr/local/lib/python3.11/dist-packages (from numba==0.61.0->nemo-toolkit==2.3.0rc0) (0.44.0)\n",
            "Requirement already satisfied: filelock in /usr/local/lib/python3.11/dist-packages (from huggingface_hub>=0.24->nemo-toolkit==2.3.0rc0) (3.17.0)\n",
            "Requirement already satisfied: fsspec>=2023.5.0 in /usr/local/lib/python3.11/dist-packages (from huggingface_hub>=0.24->nemo-toolkit==2.3.0rc0) (2024.10.0)\n",
            "Requirement already satisfied: packaging>=20.9 in /usr/local/lib/python3.11/dist-packages (from huggingface_hub>=0.24->nemo-toolkit==2.3.0rc0) (24.2)\n",
            "Requirement already satisfied: pyyaml>=5.1 in /usr/local/lib/python3.11/dist-packages (from huggingface_hub>=0.24->nemo-toolkit==2.3.0rc0) (6.0.2)\n",
            "Requirement already satisfied: requests in /usr/local/lib/python3.11/dist-packages (from huggingface_hub>=0.24->nemo-toolkit==2.3.0rc0) (2.32.3)\n",
            "Requirement already satisfied: typing-extensions>=3.7.4.3 in /usr/local/lib/python3.11/dist-packages (from huggingface_hub>=0.24->nemo-toolkit==2.3.0rc0) (4.12.2)\n",
            "Requirement already satisfied: six>=1.5 in /usr/local/lib/python3.11/dist-packages (from python-dateutil->nemo-toolkit==2.3.0rc0) (1.17.0)\n",
            "Collecting ruamel.yaml.clib>=0.2.7 (from ruamel.yaml->nemo-toolkit==2.3.0rc0)\n",
            "  Downloading ruamel.yaml.clib-0.2.12-cp311-cp311-manylinux_2_17_x86_64.manylinux2014_x86_64.whl.metadata (2.7 kB)\n",
            "Requirement already satisfied: scipy>=1.6.0 in /usr/local/lib/python3.11/dist-packages (from scikit-learn->nemo-toolkit==2.3.0rc0) (1.13.1)\n",
            "Requirement already satisfied: joblib>=1.2.0 in /usr/local/lib/python3.11/dist-packages (from scikit-learn->nemo-toolkit==2.3.0rc0) (1.4.2)\n",
            "Requirement already satisfied: threadpoolctl>=3.1.0 in /usr/local/lib/python3.11/dist-packages (from scikit-learn->nemo-toolkit==2.3.0rc0) (3.5.0)\n",
            "Requirement already satisfied: absl-py>=0.4 in /usr/local/lib/python3.11/dist-packages (from tensorboard->nemo-toolkit==2.3.0rc0) (1.4.0)\n",
            "Requirement already satisfied: grpcio>=1.48.2 in /usr/local/lib/python3.11/dist-packages (from tensorboard->nemo-toolkit==2.3.0rc0) (1.70.0)\n",
            "Requirement already satisfied: markdown>=2.6.8 in /usr/local/lib/python3.11/dist-packages (from tensorboard->nemo-toolkit==2.3.0rc0) (3.7)\n",
            "Requirement already satisfied: tensorboard-data-server<0.8.0,>=0.7.0 in /usr/local/lib/python3.11/dist-packages (from tensorboard->nemo-toolkit==2.3.0rc0) (0.7.2)\n",
            "Requirement already satisfied: werkzeug>=1.0.1 in /usr/local/lib/python3.11/dist-packages (from tensorboard->nemo-toolkit==2.3.0rc0) (3.1.3)\n",
            "Requirement already satisfied: networkx in /usr/local/lib/python3.11/dist-packages (from torch->nemo-toolkit==2.3.0rc0) (3.4.2)\n",
            "Requirement already satisfied: jinja2 in /usr/local/lib/python3.11/dist-packages (from torch->nemo-toolkit==2.3.0rc0) (3.1.5)\n",
            "Collecting nvidia-cuda-nvrtc-cu12==12.4.127 (from torch->nemo-toolkit==2.3.0rc0)\n",
            "  Downloading nvidia_cuda_nvrtc_cu12-12.4.127-py3-none-manylinux2014_x86_64.whl.metadata (1.5 kB)\n",
            "Collecting nvidia-cuda-runtime-cu12==12.4.127 (from torch->nemo-toolkit==2.3.0rc0)\n",
            "  Downloading nvidia_cuda_runtime_cu12-12.4.127-py3-none-manylinux2014_x86_64.whl.metadata (1.5 kB)\n",
            "Collecting nvidia-cuda-cupti-cu12==12.4.127 (from torch->nemo-toolkit==2.3.0rc0)\n",
            "  Downloading nvidia_cuda_cupti_cu12-12.4.127-py3-none-manylinux2014_x86_64.whl.metadata (1.6 kB)\n",
            "Collecting nvidia-cudnn-cu12==9.1.0.70 (from torch->nemo-toolkit==2.3.0rc0)\n",
            "  Downloading nvidia_cudnn_cu12-9.1.0.70-py3-none-manylinux2014_x86_64.whl.metadata (1.6 kB)\n",
            "Collecting nvidia-cublas-cu12==12.4.5.8 (from torch->nemo-toolkit==2.3.0rc0)\n",
            "  Downloading nvidia_cublas_cu12-12.4.5.8-py3-none-manylinux2014_x86_64.whl.metadata (1.5 kB)\n",
            "Collecting nvidia-cufft-cu12==11.2.1.3 (from torch->nemo-toolkit==2.3.0rc0)\n",
            "  Downloading nvidia_cufft_cu12-11.2.1.3-py3-none-manylinux2014_x86_64.whl.metadata (1.5 kB)\n",
            "Collecting nvidia-curand-cu12==10.3.5.147 (from torch->nemo-toolkit==2.3.0rc0)\n",
            "  Downloading nvidia_curand_cu12-10.3.5.147-py3-none-manylinux2014_x86_64.whl.metadata (1.5 kB)\n",
            "Collecting nvidia-cusolver-cu12==11.6.1.9 (from torch->nemo-toolkit==2.3.0rc0)\n",
            "  Downloading nvidia_cusolver_cu12-11.6.1.9-py3-none-manylinux2014_x86_64.whl.metadata (1.6 kB)\n",
            "Collecting nvidia-cusparse-cu12==12.3.1.170 (from torch->nemo-toolkit==2.3.0rc0)\n",
            "  Downloading nvidia_cusparse_cu12-12.3.1.170-py3-none-manylinux2014_x86_64.whl.metadata (1.6 kB)\n",
            "Requirement already satisfied: nvidia-nccl-cu12==2.21.5 in /usr/local/lib/python3.11/dist-packages (from torch->nemo-toolkit==2.3.0rc0) (2.21.5)\n",
            "Requirement already satisfied: nvidia-nvtx-cu12==12.4.127 in /usr/local/lib/python3.11/dist-packages (from torch->nemo-toolkit==2.3.0rc0) (12.4.127)\n",
            "Collecting nvidia-nvjitlink-cu12==12.4.127 (from torch->nemo-toolkit==2.3.0rc0)\n",
            "  Downloading nvidia_nvjitlink_cu12-12.4.127-py3-none-manylinux2014_x86_64.whl.metadata (1.5 kB)\n",
            "Requirement already satisfied: triton==3.1.0 in /usr/local/lib/python3.11/dist-packages (from torch->nemo-toolkit==2.3.0rc0) (3.1.0)\n",
            "Requirement already satisfied: sympy==1.13.1 in /usr/local/lib/python3.11/dist-packages (from torch->nemo-toolkit==2.3.0rc0) (1.13.1)\n",
            "Requirement already satisfied: mpmath<1.4,>=1.1.0 in /usr/local/lib/python3.11/dist-packages (from sympy==1.13.1->torch->nemo-toolkit==2.3.0rc0) (1.3.0)\n",
            "Requirement already satisfied: MarkupSafe>=2.1.1 in /usr/local/lib/python3.11/dist-packages (from werkzeug>=1.0.1->tensorboard->nemo-toolkit==2.3.0rc0) (3.0.2)\n",
            "Requirement already satisfied: charset-normalizer<4,>=2 in /usr/local/lib/python3.11/dist-packages (from requests->huggingface_hub>=0.24->nemo-toolkit==2.3.0rc0) (3.4.1)\n",
            "Requirement already satisfied: idna<4,>=2.5 in /usr/local/lib/python3.11/dist-packages (from requests->huggingface_hub>=0.24->nemo-toolkit==2.3.0rc0) (3.10)\n",
            "Requirement already satisfied: urllib3<3,>=1.21.1 in /usr/local/lib/python3.11/dist-packages (from requests->huggingface_hub>=0.24->nemo-toolkit==2.3.0rc0) (2.3.0)\n",
            "Requirement already satisfied: certifi>=2017.4.17 in /usr/local/lib/python3.11/dist-packages (from requests->huggingface_hub>=0.24->nemo-toolkit==2.3.0rc0) (2025.1.31)\n",
            "Downloading protobuf-3.20.3-py2.py3-none-any.whl (162 kB)\n",
            "\u001b[2K   \u001b[90m━━━━━━━━━━━━━━━━━━━━━━━━━━━━━━━━━━━━━━━━\u001b[0m \u001b[32m162.1/162.1 kB\u001b[0m \u001b[31m12.8 MB/s\u001b[0m eta \u001b[36m0:00:00\u001b[0m\n",
            "\u001b[?25hDownloading onnx-1.17.0-cp311-cp311-manylinux_2_17_x86_64.manylinux2014_x86_64.whl (16.0 MB)\n",
            "\u001b[2K   \u001b[90m━━━━━━━━━━━━━━━━━━━━━━━━━━━━━━━━━━━━━━━━\u001b[0m \u001b[32m16.0/16.0 MB\u001b[0m \u001b[31m65.4 MB/s\u001b[0m eta \u001b[36m0:00:00\u001b[0m\n",
            "\u001b[?25hDownloading ruamel.yaml-0.18.10-py3-none-any.whl (117 kB)\n",
            "\u001b[2K   \u001b[90m━━━━━━━━━━━━━━━━━━━━━━━━━━━━━━━━━━━━━━━━\u001b[0m \u001b[32m117.7/117.7 kB\u001b[0m \u001b[31m10.3 MB/s\u001b[0m eta \u001b[36m0:00:00\u001b[0m\n",
            "\u001b[?25hDownloading nvidia_cublas_cu12-12.4.5.8-py3-none-manylinux2014_x86_64.whl (363.4 MB)\n",
            "\u001b[2K   \u001b[90m━━━━━━━━━━━━━━━━━━━━━━━━━━━━━━━━━━━━━━━━\u001b[0m \u001b[32m363.4/363.4 MB\u001b[0m \u001b[31m4.0 MB/s\u001b[0m eta \u001b[36m0:00:00\u001b[0m\n",
            "\u001b[?25hDownloading nvidia_cuda_cupti_cu12-12.4.127-py3-none-manylinux2014_x86_64.whl (13.8 MB)\n",
            "\u001b[2K   \u001b[90m━━━━━━━━━━━━━━━━━━━━━━━━━━━━━━━━━━━━━━━━\u001b[0m \u001b[32m13.8/13.8 MB\u001b[0m \u001b[31m88.7 MB/s\u001b[0m eta \u001b[36m0:00:00\u001b[0m\n",
            "\u001b[?25hDownloading nvidia_cuda_nvrtc_cu12-12.4.127-py3-none-manylinux2014_x86_64.whl (24.6 MB)\n",
            "\u001b[2K   \u001b[90m━━━━━━━━━━━━━━━━━━━━━━━━━━━━━━━━━━━━━━━━\u001b[0m \u001b[32m24.6/24.6 MB\u001b[0m \u001b[31m86.4 MB/s\u001b[0m eta \u001b[36m0:00:00\u001b[0m\n",
            "\u001b[?25hDownloading nvidia_cuda_runtime_cu12-12.4.127-py3-none-manylinux2014_x86_64.whl (883 kB)\n",
            "\u001b[2K   \u001b[90m━━━━━━━━━━━━━━━━━━━━━━━━━━━━━━━━━━━━━━━━\u001b[0m \u001b[32m883.7/883.7 kB\u001b[0m \u001b[31m48.6 MB/s\u001b[0m eta \u001b[36m0:00:00\u001b[0m\n",
            "\u001b[?25hDownloading nvidia_cudnn_cu12-9.1.0.70-py3-none-manylinux2014_x86_64.whl (664.8 MB)\n",
            "\u001b[2K   \u001b[90m━━━━━━━━━━━━━━━━━━━━━━━━━━━━━━━━━━━━━━━━\u001b[0m \u001b[32m664.8/664.8 MB\u001b[0m \u001b[31m856.7 kB/s\u001b[0m eta \u001b[36m0:00:00\u001b[0m\n",
            "\u001b[?25hDownloading nvidia_cufft_cu12-11.2.1.3-py3-none-manylinux2014_x86_64.whl (211.5 MB)\n",
            "\u001b[2K   \u001b[90m━━━━━━━━━━━━━━━━━━━━━━━━━━━━━━━━━━━━━━━━\u001b[0m \u001b[32m211.5/211.5 MB\u001b[0m \u001b[31m5.8 MB/s\u001b[0m eta \u001b[36m0:00:00\u001b[0m\n",
            "\u001b[?25hDownloading nvidia_curand_cu12-10.3.5.147-py3-none-manylinux2014_x86_64.whl (56.3 MB)\n",
            "\u001b[2K   \u001b[90m━━━━━━━━━━━━━━━━━━━━━━━━━━━━━━━━━━━━━━━━\u001b[0m \u001b[32m56.3/56.3 MB\u001b[0m \u001b[31m12.8 MB/s\u001b[0m eta \u001b[36m0:00:00\u001b[0m\n",
            "\u001b[?25hDownloading nvidia_cusolver_cu12-11.6.1.9-py3-none-manylinux2014_x86_64.whl (127.9 MB)\n",
            "\u001b[2K   \u001b[90m━━━━━━━━━━━━━━━━━━━━━━━━━━━━━━━━━━━━━━━━\u001b[0m \u001b[32m127.9/127.9 MB\u001b[0m \u001b[31m7.6 MB/s\u001b[0m eta \u001b[36m0:00:00\u001b[0m\n",
            "\u001b[?25hDownloading nvidia_cusparse_cu12-12.3.1.170-py3-none-manylinux2014_x86_64.whl (207.5 MB)\n",
            "\u001b[2K   \u001b[90m━━━━━━━━━━━━━━━━━━━━━━━━━━━━━━━━━━━━━━━━\u001b[0m \u001b[32m207.5/207.5 MB\u001b[0m \u001b[31m6.0 MB/s\u001b[0m eta \u001b[36m0:00:00\u001b[0m\n",
            "\u001b[?25hDownloading nvidia_nvjitlink_cu12-12.4.127-py3-none-manylinux2014_x86_64.whl (21.1 MB)\n",
            "\u001b[2K   \u001b[90m━━━━━━━━━━━━━━━━━━━━━━━━━━━━━━━━━━━━━━━━\u001b[0m \u001b[32m21.1/21.1 MB\u001b[0m \u001b[31m85.5 MB/s\u001b[0m eta \u001b[36m0:00:00\u001b[0m\n",
            "\u001b[?25hDownloading ruamel.yaml.clib-0.2.12-cp311-cp311-manylinux_2_17_x86_64.manylinux2014_x86_64.whl (739 kB)\n",
            "\u001b[2K   \u001b[90m━━━━━━━━━━━━━━━━━━━━━━━━━━━━━━━━━━━━━━━━\u001b[0m \u001b[32m739.1/739.1 kB\u001b[0m \u001b[31m41.2 MB/s\u001b[0m eta \u001b[36m0:00:00\u001b[0m\n",
            "\u001b[?25hBuilding wheels for collected packages: nemo-toolkit\n",
            "  Building wheel for nemo-toolkit (pyproject.toml) ... \u001b[?25l\u001b[?25hdone\n",
            "  Created wheel for nemo-toolkit: filename=nemo_toolkit-2.3.0rc0-py3-none-any.whl size=5637794 sha256=a40ef4938da8215feec7143bdc991f8d480bada5f7cb2e1e38f46353728f6adf\n",
            "  Stored in directory: /tmp/pip-ephem-wheel-cache-76j5mdcq/wheels/54/fe/f9/6404063304730f13faa8f01956f227f95c4ac57fb3e014fc33\n",
            "Successfully built nemo-toolkit\n",
            "Installing collected packages: ruamel.yaml.clib, protobuf, nvidia-nvjitlink-cu12, nvidia-curand-cu12, nvidia-cufft-cu12, nvidia-cuda-runtime-cu12, nvidia-cuda-nvrtc-cu12, nvidia-cuda-cupti-cu12, nvidia-cublas-cu12, ruamel.yaml, onnx, nvidia-cusparse-cu12, nvidia-cudnn-cu12, nvidia-cusolver-cu12, nemo-toolkit\n",
            "  Attempting uninstall: protobuf\n",
            "    Found existing installation: protobuf 4.25.6\n",
            "    Uninstalling protobuf-4.25.6:\n",
            "      Successfully uninstalled protobuf-4.25.6\n",
            "  Attempting uninstall: nvidia-nvjitlink-cu12\n",
            "    Found existing installation: nvidia-nvjitlink-cu12 12.5.82\n",
            "    Uninstalling nvidia-nvjitlink-cu12-12.5.82:\n",
            "      Successfully uninstalled nvidia-nvjitlink-cu12-12.5.82\n",
            "  Attempting uninstall: nvidia-curand-cu12\n",
            "    Found existing installation: nvidia-curand-cu12 10.3.6.82\n",
            "    Uninstalling nvidia-curand-cu12-10.3.6.82:\n",
            "      Successfully uninstalled nvidia-curand-cu12-10.3.6.82\n",
            "  Attempting uninstall: nvidia-cufft-cu12\n",
            "    Found existing installation: nvidia-cufft-cu12 11.2.3.61\n",
            "    Uninstalling nvidia-cufft-cu12-11.2.3.61:\n",
            "      Successfully uninstalled nvidia-cufft-cu12-11.2.3.61\n",
            "  Attempting uninstall: nvidia-cuda-runtime-cu12\n",
            "    Found existing installation: nvidia-cuda-runtime-cu12 12.5.82\n",
            "    Uninstalling nvidia-cuda-runtime-cu12-12.5.82:\n",
            "      Successfully uninstalled nvidia-cuda-runtime-cu12-12.5.82\n",
            "  Attempting uninstall: nvidia-cuda-nvrtc-cu12\n",
            "    Found existing installation: nvidia-cuda-nvrtc-cu12 12.5.82\n",
            "    Uninstalling nvidia-cuda-nvrtc-cu12-12.5.82:\n",
            "      Successfully uninstalled nvidia-cuda-nvrtc-cu12-12.5.82\n",
            "  Attempting uninstall: nvidia-cuda-cupti-cu12\n",
            "    Found existing installation: nvidia-cuda-cupti-cu12 12.5.82\n",
            "    Uninstalling nvidia-cuda-cupti-cu12-12.5.82:\n",
            "      Successfully uninstalled nvidia-cuda-cupti-cu12-12.5.82\n",
            "  Attempting uninstall: nvidia-cublas-cu12\n",
            "    Found existing installation: nvidia-cublas-cu12 12.5.3.2\n",
            "    Uninstalling nvidia-cublas-cu12-12.5.3.2:\n",
            "      Successfully uninstalled nvidia-cublas-cu12-12.5.3.2\n",
            "  Attempting uninstall: nvidia-cusparse-cu12\n",
            "    Found existing installation: nvidia-cusparse-cu12 12.5.1.3\n",
            "    Uninstalling nvidia-cusparse-cu12-12.5.1.3:\n",
            "      Successfully uninstalled nvidia-cusparse-cu12-12.5.1.3\n",
            "  Attempting uninstall: nvidia-cudnn-cu12\n",
            "    Found existing installation: nvidia-cudnn-cu12 9.3.0.75\n",
            "    Uninstalling nvidia-cudnn-cu12-9.3.0.75:\n",
            "      Successfully uninstalled nvidia-cudnn-cu12-9.3.0.75\n",
            "  Attempting uninstall: nvidia-cusolver-cu12\n",
            "    Found existing installation: nvidia-cusolver-cu12 11.6.3.83\n",
            "    Uninstalling nvidia-cusolver-cu12-11.6.3.83:\n",
            "      Successfully uninstalled nvidia-cusolver-cu12-11.6.3.83\n",
            "\u001b[31mERROR: pip's dependency resolver does not currently take into account all the packages that are installed. This behaviour is the source of the following dependency conflicts.\n",
            "grpcio-status 1.62.3 requires protobuf>=4.21.6, but you have protobuf 3.20.3 which is incompatible.\n",
            "tensorflow-metadata 1.16.1 requires protobuf<6.0.0dev,>=4.25.2; python_version >= \"3.11\", but you have protobuf 3.20.3 which is incompatible.\u001b[0m\u001b[31m\n",
            "\u001b[0mSuccessfully installed nemo-toolkit-2.3.0rc0 nvidia-cublas-cu12-12.4.5.8 nvidia-cuda-cupti-cu12-12.4.127 nvidia-cuda-nvrtc-cu12-12.4.127 nvidia-cuda-runtime-cu12-12.4.127 nvidia-cudnn-cu12-9.1.0.70 nvidia-cufft-cu12-11.2.1.3 nvidia-curand-cu12-10.3.5.147 nvidia-cusolver-cu12-11.6.1.9 nvidia-cusparse-cu12-12.3.1.170 nvidia-nvjitlink-cu12-12.4.127 onnx-1.17.0 protobuf-3.20.3 ruamel.yaml-0.18.10 ruamel.yaml.clib-0.2.12\n"
          ]
        },
        {
          "output_type": "display_data",
          "data": {
            "application/vnd.colab-display-data+json": {
              "pip_warning": {
                "packages": [
                  "google"
                ]
              },
              "id": "b7e0572699c84632b2b58bcf253f78ab"
            }
          },
          "metadata": {}
        },
        {
          "output_type": "stream",
          "name": "stdout",
          "text": [
            "--2025-03-06 08:24:36--  https://raw.githubusercontent.com/NVIDIA/NeMo/main/examples/asr/conf/contextnet_rnnt/contextnet_rnnt.yaml\n",
            "Resolving raw.githubusercontent.com (raw.githubusercontent.com)... 185.199.108.133, 185.199.109.133, 185.199.110.133, ...\n",
            "Connecting to raw.githubusercontent.com (raw.githubusercontent.com)|185.199.108.133|:443... connected.\n",
            "HTTP request sent, awaiting response... 200 OK\n",
            "Length: 18860 (18K) [text/plain]\n",
            "Saving to: ‘configs/contextnet_rnnt.yaml’\n",
            "\n",
            "contextnet_rnnt.yam 100%[===================>]  18.42K  --.-KB/s    in 0s      \n",
            "\n",
            "2025-03-06 08:24:36 (121 MB/s) - ‘configs/contextnet_rnnt.yaml’ saved [18860/18860]\n",
            "\n"
          ]
        }
      ],
      "source": [
        "\"\"\"\n",
        "You can run either this notebook locally (if you have all the dependencies and a GPU) or on Google Colab.\n",
        "\n",
        "Instructions for setting up Colab are as follows:\n",
        "1. Open a new Python 3 notebook.\n",
        "2. Import this notebook from GitHub (File -> Upload Notebook -> \"GITHUB\" tab -> copy/paste GitHub URL)\n",
        "3. Connect to an instance with a GPU (Runtime -> Change runtime type -> select \"GPU\" for hardware accelerator)\n",
        "4. Run this cell to set up dependencies.\n",
        "5. Restart the runtime (Runtime -> Restart Runtime) for any upgraded packages to take effect\n",
        "\n",
        "\n",
        "NOTE: User is responsible for checking the content of datasets and the applicable licenses and determining if suitable for the intended use.\n",
        "\"\"\"\n",
        "# If you're using Google Colab and not running locally, run this cell.\n",
        "import os\n",
        "\n",
        "# Install dependencies\n",
        "!pip install wget\n",
        "!apt-get install sox libsndfile1 ffmpeg\n",
        "!pip install text-unidecode\n",
        "!pip install matplotlib>=3.3.2\n",
        "\n",
        "## Install NeMo\n",
        "BRANCH = 'main'\n",
        "!pip install git+https://github.com/NVIDIA/NeMo.git\n",
        "\n",
        "## Grab the config we'll use in this example\n",
        "!mkdir configs\n",
        "!wget -P configs/ https://raw.githubusercontent.com/NVIDIA/NeMo/$BRANCH/examples/asr/conf/contextnet_rnnt/contextnet_rnnt.yaml\n"
      ]
    },
    {
      "cell_type": "code",
      "execution_count": 2,
      "metadata": {
        "id": "uj-UnhKk47oW",
        "outputId": "e65ea61e-7276-4dbc-d682-ccd981bcdb9d",
        "colab": {
          "base_uri": "https://localhost:8080/"
        }
      },
      "outputs": [
        {
          "output_type": "stream",
          "name": "stdout",
          "text": [
            "Requirement already satisfied: numba in /usr/local/lib/python3.11/dist-packages (0.61.0)\n",
            "Requirement already satisfied: llvmlite<0.45,>=0.44.0dev0 in /usr/local/lib/python3.11/dist-packages (from numba) (0.44.0)\n",
            "Requirement already satisfied: numpy<2.2,>=1.24 in /usr/local/lib/python3.11/dist-packages (from numba) (1.26.4)\n"
          ]
        }
      ],
      "source": [
        "# In a conda environment, you would use the following command\n",
        "# Update Numba to > 0.53\n",
        "# conda install -c conda-forge numba\n",
        "# or\n",
        "# conda update -c conda-forge numba\n",
        "\n",
        "# For pip based environments,\n",
        "# Update Numba to > 0.53\n",
        "!pip install --upgrade numba"
      ]
    },
    {
      "cell_type": "markdown",
      "metadata": {
        "id": "RGNuJWr66C38"
      },
      "source": [
        "# Automatic Speech Recognition with Transducer Models\n",
        "\n",
        "This notebook is a basic tutorial for creating a Transducer ASR model and then training it on a small dataset (AN4). It includes discussion relevant to reducing memory issues when training such models and demonstrates how to change the decoding strategy after training. Finally, it also provides a brief glimpse of extracting alignment information from a trained Transducer model.\n",
        "\n",
        "As we will see in this tutorial, apart from the differences in the config and the class used to instantiate the model, nearly all steps are precisely similar to any CTC-based model training. Many concepts such as data loader setup, optimization setup, pre-trained checkpoint weight loading will be nearly identical between CTC and Transducer models.\n",
        "\n",
        "In essence, NeMo makes it seamless to take a config for a CTC ASR model, add in a few components related to Transducers (often without any modifications) and use a different class to instantiate a Transducer model!\n",
        "\n",
        "--------\n",
        "\n",
        "**Note**: It is assumed that the previous tutorial - \"Intro-to-Transducers\" has been reviewed, and there is some familiarity with the config components of transducer models.\n"
      ]
    },
    {
      "cell_type": "markdown",
      "metadata": {
        "id": "eAqCcJ-T6C6k"
      },
      "source": [
        "# Preparing the dataset\n",
        "\n",
        "In this tutorial, we will be utilizing the `AN4`dataset - also known as the Alphanumeric dataset, which was collected and published by Carnegie Mellon University. It consists of recordings of people spelling out addresses, names, telephone numbers, etc., one letter or number at a time and their corresponding transcripts. We choose to use AN4 for this tutorial because it is relatively small, with 948 training and 130 test utterances, and so it trains quickly.\n",
        "\n",
        "Let's first download the preparation script from NeMo's scripts directory -"
      ]
    },
    {
      "cell_type": "code",
      "execution_count": 3,
      "metadata": {
        "id": "pu4n4GkjAo9i",
        "outputId": "ba560fa0-bd6c-408a-d4ab-9b2ee3ba9aad",
        "colab": {
          "base_uri": "https://localhost:8080/"
        }
      },
      "outputs": [
        {
          "output_type": "stream",
          "name": "stdout",
          "text": [
            "--2025-03-06 08:24:43--  https://raw.githubusercontent.com/NVIDIA/NeMo/main/scripts/dataset_processing/process_an4_data.py\n",
            "Resolving raw.githubusercontent.com (raw.githubusercontent.com)... 185.199.108.133, 185.199.109.133, 185.199.110.133, ...\n",
            "Connecting to raw.githubusercontent.com (raw.githubusercontent.com)|185.199.108.133|:443... connected.\n",
            "HTTP request sent, awaiting response... 200 OK\n",
            "Length: 3301 (3.2K) [text/plain]\n",
            "Saving to: ‘scripts/process_an4_data.py’\n",
            "\n",
            "process_an4_data.py 100%[===================>]   3.22K  --.-KB/s    in 0s      \n",
            "\n",
            "2025-03-06 08:24:43 (42.7 MB/s) - ‘scripts/process_an4_data.py’ saved [3301/3301]\n",
            "\n"
          ]
        }
      ],
      "source": [
        "import os\n",
        "\n",
        "if not os.path.exists(\"scripts/\"):\n",
        "  os.makedirs(\"scripts\")\n",
        "\n",
        "if not os.path.exists(\"scripts/process_an4_data.py\"):\n",
        "  !wget -P scripts/ https://raw.githubusercontent.com/NVIDIA/NeMo/$BRANCH/scripts/dataset_processing/process_an4_data.py"
      ]
    },
    {
      "cell_type": "markdown",
      "metadata": {
        "id": "_QGyusFJBUqH"
      },
      "source": [
        "------\n",
        "\n",
        "Download and prepare the two subsets of `AN 4`"
      ]
    },
    {
      "cell_type": "code",
      "execution_count": 4,
      "metadata": {
        "id": "yV1rJcH6ApDo",
        "outputId": "c72467a4-b44e-42b7-c7c7-ab40f79312d2",
        "colab": {
          "base_uri": "https://localhost:8080/"
        }
      },
      "outputs": [
        {
          "output_type": "stream",
          "name": "stdout",
          "text": [
            "******\n",
            "Dataset downloaded at: datasets/an4_sphere.tar.gz\n",
            "Converting .sph to .wav...\n",
            "Finished conversion.\n",
            "******\n"
          ]
        }
      ],
      "source": [
        "import wget\n",
        "import tarfile\n",
        "import subprocess\n",
        "import glob\n",
        "\n",
        "data_dir = \"datasets\"\n",
        "\n",
        "if not os.path.exists(data_dir):\n",
        "  os.makedirs(data_dir)\n",
        "\n",
        "# Download the dataset. This will take a few moments...\n",
        "print(\"******\")\n",
        "if not os.path.exists(data_dir + '/an4_sphere.tar.gz'):\n",
        "    an4_url = 'https://dldata-public.s3.us-east-2.amazonaws.com/an4_sphere.tar.gz'\n",
        "    an4_path = wget.download(an4_url, data_dir)\n",
        "    print(f\"Dataset downloaded at: {an4_path}\")\n",
        "else:\n",
        "    print(\"Tarfile already exists.\")\n",
        "    an4_path = data_dir + '/an4_sphere.tar.gz'\n",
        "\n",
        "\n",
        "if not os.path.exists(data_dir + '/an4/'):\n",
        "    # Untar and convert .sph to .wav (using sox)\n",
        "    tar = tarfile.open(an4_path)\n",
        "    tar.extractall(path=data_dir)\n",
        "\n",
        "    print(\"Converting .sph to .wav...\")\n",
        "    sph_list = glob.glob(data_dir + '/an4/**/*.sph', recursive=True)\n",
        "    for sph_path in sph_list:\n",
        "        wav_path = sph_path[:-4] + '.wav'\n",
        "        cmd = [\"sox\", sph_path, wav_path]\n",
        "        subprocess.run(cmd)\n",
        "\n",
        "print(\"Finished conversion.\\n******\")"
      ]
    },
    {
      "cell_type": "code",
      "execution_count": 5,
      "metadata": {
        "id": "q2OVIxAXfTu_",
        "outputId": "2ad6c3e0-dc08-4a34-daa0-a89f99ff5c50",
        "colab": {
          "base_uri": "https://localhost:8080/"
        }
      },
      "outputs": [
        {
          "output_type": "stream",
          "name": "stdout",
          "text": [
            "******\n",
            "Training manifest created.\n",
            "Test manifest created.\n",
            "***Done***\n"
          ]
        }
      ],
      "source": [
        "# --- Building Manifest Files --- #\n",
        "import json\n",
        "import librosa\n",
        "\n",
        "# Function to build a manifest\n",
        "def build_manifest(transcripts_path, manifest_path, wav_path):\n",
        "    with open(transcripts_path, 'r') as fin:\n",
        "        with open(manifest_path, 'w') as fout:\n",
        "            for line in fin:\n",
        "                # Lines look like this:\n",
        "                # <s> transcript </s> (fileID)\n",
        "                transcript = line[: line.find('(')-1].lower()\n",
        "                transcript = transcript.replace('<s>', '').replace('</s>', '')\n",
        "                transcript = transcript.strip()\n",
        "\n",
        "                file_id = line[line.find('(')+1 : -2]  # e.g. \"cen4-fash-b\"\n",
        "                audio_path = os.path.join(\n",
        "                    data_dir, wav_path,\n",
        "                    file_id[file_id.find('-')+1 : file_id.rfind('-')],\n",
        "                    file_id + '.wav')\n",
        "\n",
        "                duration = librosa.core.get_duration(path=audio_path)\n",
        "\n",
        "                # Write the metadata to the manifest\n",
        "                metadata = {\n",
        "                    \"audio_filepath\": audio_path,\n",
        "                    \"duration\": duration,\n",
        "                    \"text\": transcript\n",
        "                }\n",
        "                json.dump(metadata, fout)\n",
        "                fout.write('\\n')\n",
        "\n",
        "# Building Manifests\n",
        "print(\"******\")\n",
        "train_transcripts = os.path.join(data_dir, 'an4/etc/an4_train.transcription')\n",
        "train_manifest = os.path.join(data_dir, 'an4/train_manifest.json')\n",
        "if not os.path.isfile(train_manifest):\n",
        "    build_manifest(train_transcripts, train_manifest, 'an4/wav/an4_clstk')\n",
        "    print(\"Training manifest created.\")\n",
        "\n",
        "test_transcripts = os.path.join(data_dir, 'an4/etc/an4_test.transcription')\n",
        "test_manifest = os.path.join(data_dir, 'an4/test_manifest.json')\n",
        "if not os.path.isfile(test_manifest):\n",
        "    build_manifest(test_transcripts, test_manifest, 'an4/wav/an4test_clstk')\n",
        "    print(\"Test manifest created.\")\n",
        "print(\"***Done***\")\n",
        "# Manifest filepaths\n",
        "TRAIN_MANIFEST = train_manifest\n",
        "TEST_MANIFEST = test_manifest"
      ]
    },
    {
      "cell_type": "markdown",
      "metadata": {
        "id": "2sSycX_VJsCI"
      },
      "source": [
        "## Preparing the tokenizer\n",
        "\n",
        "Now that we have a dataset ready, we need to decide whether to use a character-based model or a sub-word-based model. For completeness' sake, we will use a tokenizer based model so that we can leverage a modern encoder architecture like ContextNet or Conformer-T."
      ]
    },
    {
      "cell_type": "code",
      "execution_count": 6,
      "metadata": {
        "id": "i2hD4LkoJvrx",
        "outputId": "0ed301aa-5e53-4701-fe0e-a9699e5fd4dd",
        "colab": {
          "base_uri": "https://localhost:8080/"
        }
      },
      "outputs": [
        {
          "output_type": "stream",
          "name": "stdout",
          "text": [
            "--2025-03-06 08:25:07--  https://raw.githubusercontent.com/NVIDIA/NeMo/main/scripts/tokenizers/process_asr_text_tokenizer.py\n",
            "Resolving raw.githubusercontent.com (raw.githubusercontent.com)... 185.199.108.133, 185.199.109.133, 185.199.110.133, ...\n",
            "Connecting to raw.githubusercontent.com (raw.githubusercontent.com)|185.199.108.133|:443... connected.\n",
            "HTTP request sent, awaiting response... 200 OK\n",
            "Length: 17146 (17K) [text/plain]\n",
            "Saving to: ‘scripts/process_asr_text_tokenizer.py’\n",
            "\n",
            "process_asr_text_to 100%[===================>]  16.74K  --.-KB/s    in 0s      \n",
            "\n",
            "2025-03-06 08:25:09 (129 MB/s) - ‘scripts/process_asr_text_tokenizer.py’ saved [17146/17146]\n",
            "\n"
          ]
        }
      ],
      "source": [
        "if not os.path.exists(\"scripts/process_asr_text_tokenizer.py\"):\n",
        "  !wget -P scripts/ https://raw.githubusercontent.com/NVIDIA/NeMo/$BRANCH/scripts/tokenizers/process_asr_text_tokenizer.py"
      ]
    },
    {
      "cell_type": "markdown",
      "metadata": {
        "id": "dQdeiafdKE4A"
      },
      "source": [
        "-----\n",
        "\n",
        "Since the dataset is tiny, we can use a small SentencePiece based tokenizer. We always delete the tokenizer directory so any changes to the manifest files are always replicated in the tokenizer."
      ]
    },
    {
      "cell_type": "code",
      "execution_count": 7,
      "metadata": {
        "id": "i6Jzpt6UJvuI",
        "outputId": "312a7de3-719b-4c4b-d9ae-a92e8e9ae75a",
        "colab": {
          "base_uri": "https://localhost:8080/"
        }
      },
      "outputs": [
        {
          "output_type": "stream",
          "name": "stdout",
          "text": [
            "rm: cannot remove 'tokenizers/': No such file or directory\n",
            "Traceback (most recent call last):\n",
            "  File \"/content/scripts/process_asr_text_tokenizer.py\", line 106, in <module>\n",
            "    from nemo.collections.common.tokenizers.sentencepiece_tokenizer import create_spt_model\n",
            "  File \"/usr/local/lib/python3.11/dist-packages/nemo/collections/common/__init__.py\", line 15, in <module>\n",
            "    import nemo.collections.common.callbacks\n",
            "  File \"/usr/local/lib/python3.11/dist-packages/nemo/collections/common/callbacks/__init__.py\", line 15, in <module>\n",
            "    from nemo.collections.common.callbacks.callbacks import LogEpochTimeCallback\n",
            "  File \"/usr/local/lib/python3.11/dist-packages/nemo/collections/common/callbacks/callbacks.py\", line 16, in <module>\n",
            "    from lightning.pytorch.callbacks import Callback\n",
            "ModuleNotFoundError: No module named 'lightning'\n"
          ]
        }
      ],
      "source": [
        "VOCAB_SIZE = 32  # can be any value above 29\n",
        "TOKENIZER_TYPE = \"spe\"  # can be wpe or spe\n",
        "SPE_TYPE = \"unigram\"  # can be bpe or unigram\n",
        "\n",
        "# ------------------------------------------------------------------- #\n",
        "!rm -r tokenizers/\n",
        "\n",
        "if not os.path.exists(\"tokenizers\"):\n",
        "  os.makedirs(\"tokenizers\")\n",
        "\n",
        "!python scripts/process_asr_text_tokenizer.py \\\n",
        "   --manifest=$TRAIN_MANIFEST \\\n",
        "   --data_root=\"tokenizers\" \\\n",
        "   --tokenizer=$TOKENIZER_TYPE \\\n",
        "   --spe_type=$SPE_TYPE \\\n",
        "   --no_lower_case \\\n",
        "   --log \\\n",
        "   --vocab_size=$VOCAB_SIZE"
      ]
    },
    {
      "cell_type": "code",
      "execution_count": 8,
      "metadata": {
        "id": "JHDZswN6LIBJ"
      },
      "outputs": [],
      "source": [
        "# Tokenizer path\n",
        "if TOKENIZER_TYPE == 'spe':\n",
        "  TOKENIZER = os.path.join(\"tokenizers\", f\"tokenizer_spe_{SPE_TYPE}_v{VOCAB_SIZE}\")\n",
        "  TOKENIZER_TYPE_CFG = \"bpe\"\n",
        "else:\n",
        "  TOKENIZER = os.path.join(\"tokenizers\", f\"tokenizer_wpe_v{VOCAB_SIZE}\")\n",
        "  TOKENIZER_TYPE_CFG = \"wpe\""
      ]
    },
    {
      "cell_type": "markdown",
      "metadata": {
        "id": "j8tx2m2w6C87"
      },
      "source": [
        "# Preparing a Transducer Model\n",
        "\n",
        "Now that we have the dataset and tokenizer prepared, let us begin by setting up the config of the Transducer model! In this tutorial, we will build a slightly modified ContextNet architecture (which is obtained from the paper [ContextNet: Improving Convolutional Neural Networks for Automatic Speech Recognition with Global Context](https://arxiv.org/abs/2005.03191)).\n",
        "\n",
        "We can note that many of the steps here are identical to the setup of a CTC model!\n"
      ]
    },
    {
      "cell_type": "markdown",
      "metadata": {
        "id": "pQETBCSML0Us"
      },
      "source": [
        "## Prepare the config\n",
        "\n",
        "For a dataset such as AN4, we do not need such a deep model. In fact, the depth of this model will cause much slower convergence on a small dataset, which would require far too long to train on Colab.\n",
        "\n",
        "In order to speed up training for this demo, we will take only the first five blocks of ContextNet, and discard the rest - and we can do this directly from the config.\n",
        "\n",
        "**Note**: On any realistic dataset (say Librispeech) this step would hurt the model's accuracy significantly. It is being done only to reduce the time spent waiting for training to finish on Colab."
      ]
    },
    {
      "cell_type": "code",
      "execution_count": 9,
      "metadata": {
        "id": "6a_vedo0Lyo8",
        "outputId": "f31f8d8f-0910-456b-a247-115975c8e1d9",
        "colab": {
          "base_uri": "https://localhost:8080/",
          "height": 350
        }
      },
      "outputs": [
        {
          "output_type": "error",
          "ename": "ModuleNotFoundError",
          "evalue": "No module named 'omegaconf'",
          "traceback": [
            "\u001b[0;31m---------------------------------------------------------------------------\u001b[0m",
            "\u001b[0;31mModuleNotFoundError\u001b[0m                       Traceback (most recent call last)",
            "\u001b[0;32m<ipython-input-9-cf6bcb683537>\u001b[0m in \u001b[0;36m<cell line: 0>\u001b[0;34m()\u001b[0m\n\u001b[0;32m----> 1\u001b[0;31m \u001b[0;32mfrom\u001b[0m \u001b[0momegaconf\u001b[0m \u001b[0;32mimport\u001b[0m \u001b[0mOmegaConf\u001b[0m\u001b[0;34m,\u001b[0m \u001b[0mopen_dict\u001b[0m\u001b[0;34m\u001b[0m\u001b[0;34m\u001b[0m\u001b[0m\n\u001b[0m\u001b[1;32m      2\u001b[0m \u001b[0;34m\u001b[0m\u001b[0m\n\u001b[1;32m      3\u001b[0m \u001b[0mconfig\u001b[0m \u001b[0;34m=\u001b[0m \u001b[0mOmegaConf\u001b[0m\u001b[0;34m.\u001b[0m\u001b[0mload\u001b[0m\u001b[0;34m(\u001b[0m\u001b[0;34m\"configs/contextnet_rnnt.yaml\"\u001b[0m\u001b[0;34m)\u001b[0m\u001b[0;34m\u001b[0m\u001b[0;34m\u001b[0m\u001b[0m\n",
            "\u001b[0;31mModuleNotFoundError\u001b[0m: No module named 'omegaconf'",
            "",
            "\u001b[0;31m---------------------------------------------------------------------------\u001b[0;32m\nNOTE: If your import is failing due to a missing package, you can\nmanually install dependencies using either !pip or !apt.\n\nTo view examples of installing some common dependencies, click the\n\"Open Examples\" button below.\n\u001b[0;31m---------------------------------------------------------------------------\u001b[0m\n"
          ],
          "errorDetails": {
            "actions": [
              {
                "action": "open_url",
                "actionText": "Open Examples",
                "url": "/notebooks/snippets/importing_libraries.ipynb"
              }
            ]
          }
        }
      ],
      "source": [
        "from omegaconf import OmegaConf, open_dict\n",
        "\n",
        "config = OmegaConf.load(\"configs/contextnet_rnnt.yaml\")"
      ]
    },
    {
      "cell_type": "markdown",
      "metadata": {
        "id": "N-t7fRl6GS3A"
      },
      "source": [
        "-----\n",
        "\n",
        "Here, we will slice off the first five blocks from the Jasper block (used to build ContextNet). Setting the config with this subset will create a stride 2x model with just five blocks.\n",
        "\n",
        "We will also explicitly state that the last block dimension must be obtained from `model.model_defaults.enc_hidden` inside the config."
      ]
    },
    {
      "cell_type": "code",
      "execution_count": null,
      "metadata": {
        "id": "B9nY5JQaIhKz"
      },
      "outputs": [],
      "source": [
        "config.model.encoder.jasper = config.model.encoder.jasper[:5]\n",
        "config.model.encoder.jasper[-1].filters = '${model.model_defaults.enc_hidden}'"
      ]
    },
    {
      "cell_type": "markdown",
      "metadata": {
        "id": "d0tyOaqNLq-4"
      },
      "source": [
        "-------\n",
        "\n",
        "Next, set up the data loaders of the config for the ContextNet model."
      ]
    },
    {
      "cell_type": "code",
      "execution_count": null,
      "metadata": {
        "id": "mJbqMEkjMTfM"
      },
      "outputs": [],
      "source": [
        "# print out the train and validation configs to know what needs to be changed\n",
        "print(OmegaConf.to_yaml(config.model.train_ds))"
      ]
    },
    {
      "cell_type": "markdown",
      "metadata": {
        "id": "fyYY6hU5Meyk"
      },
      "source": [
        "-------\n",
        "\n",
        "We can note that the config here is nearly identical to the CTC ASR model configs! So let us take the same steps here to update the configs."
      ]
    },
    {
      "cell_type": "code",
      "execution_count": null,
      "metadata": {
        "id": "5QNYNItcMeOC"
      },
      "outputs": [],
      "source": [
        "config.model.train_ds.manifest_filepath = TRAIN_MANIFEST\n",
        "config.model.validation_ds.manifest_filepath = TEST_MANIFEST\n",
        "config.model.test_ds.manifest_filepath = TEST_MANIFEST"
      ]
    },
    {
      "cell_type": "markdown",
      "metadata": {
        "id": "MfW6KQ0gM6QQ"
      },
      "source": [
        "------\n",
        "\n",
        "Next, we need to setup the tokenizer section of the config"
      ]
    },
    {
      "cell_type": "code",
      "execution_count": null,
      "metadata": {
        "id": "CNlRNlVCNAjr"
      },
      "outputs": [],
      "source": [
        "print(OmegaConf.to_yaml(config.model.tokenizer))"
      ]
    },
    {
      "cell_type": "code",
      "execution_count": null,
      "metadata": {
        "id": "MzmCNJZ7NAng"
      },
      "outputs": [],
      "source": [
        "config.model.tokenizer.dir = TOKENIZER\n",
        "config.model.tokenizer.type = TOKENIZER_TYPE_CFG"
      ]
    },
    {
      "cell_type": "markdown",
      "metadata": {
        "id": "j1gVDybDq5vN"
      },
      "source": [
        "------\n",
        "Now, we can update the optimization and augmentation for this dataset in order to converge to some reasonable score within a short training run."
      ]
    },
    {
      "cell_type": "code",
      "execution_count": null,
      "metadata": {
        "id": "cUkqv_bQraQe"
      },
      "outputs": [],
      "source": [
        "print(OmegaConf.to_yaml(config.model.optim))"
      ]
    },
    {
      "cell_type": "code",
      "execution_count": null,
      "metadata": {
        "id": "mEyK1fqEiyxo"
      },
      "outputs": [],
      "source": [
        "# Finally, let's remove logging of samples and the warmup since the dataset is small (similar to CTC models)\n",
        "config.model.log_prediction = False\n",
        "config.model.optim.sched.warmup_steps = None"
      ]
    },
    {
      "cell_type": "markdown",
      "metadata": {
        "id": "lwrvBFCcZO1q"
      },
      "source": [
        "------\n",
        "\n",
        "Next, we remove the spec augment that is provided by default for ContextNet. While additional augmentation would surely help training, it would require longer training to see significant benefits."
      ]
    },
    {
      "cell_type": "code",
      "execution_count": null,
      "metadata": {
        "id": "i4udFKMwDbRm"
      },
      "outputs": [],
      "source": [
        "print(OmegaConf.to_yaml(config.model.spec_augment))"
      ]
    },
    {
      "cell_type": "code",
      "execution_count": null,
      "metadata": {
        "id": "OLUbRvoDDedd"
      },
      "outputs": [],
      "source": [
        "config.model.spec_augment.freq_masks = 0\n",
        "config.model.spec_augment.time_masks = 0"
      ]
    },
    {
      "cell_type": "markdown",
      "metadata": {
        "id": "0plKYG1zNKQK"
      },
      "source": [
        "------\n",
        "\n",
        "... We are now almost done! Most of the updates to a Transducer config are nearly the same as any CTC model."
      ]
    },
    {
      "cell_type": "markdown",
      "metadata": {
        "id": "gn8WzknQ6C-t"
      },
      "source": [
        "## Fused Batch during training and evaluation\n",
        "\n",
        "We discussed in the previous tutorial (Intro-to-Transducers) the significant memory cost of the Transducer Joint calculation during training. We also discussed that NeMo provides a simple yet effective method to nearly sidestep this limitation. We can now dive deeper into understanding what precisely NeMo's Transducer framework will do to alleviate this memory consumption issue.\n",
        "\n",
        "The following sub-cells are **voluntary** and valuable for understanding the cause, effect, and resolution of memory issues in Transducer models. The content can be skipped if one is familiar with the topic, and it is only required to use the `fused batch step`."
      ]
    },
    {
      "cell_type": "markdown",
      "metadata": {
        "id": "V5sMoFHmVvhg"
      },
      "source": [
        "## Transducer Memory reduction with Fused Batch step\n",
        "\n",
        "The following few cells explain why memory is an issue when training Transducer models and how NeMo tackles the issue with its Fused Batch step.\n",
        "\n",
        "The material can be read for a thorough understanding, otherwise, it can be skipped."
      ]
    },
    {
      "cell_type": "markdown",
      "metadata": {
        "id": "kdPilgiIOncw"
      },
      "source": [
        "### Diving deeper into the memory costs of Transducer Joint\n",
        "-------\n",
        "\n",
        "One of the significant limitations of Transducers is the exorbitant memory cost of computing the Joint module. The Joint module is comprised of two steps.\n",
        "\n",
        "1) Projecting the Acoustic and Transcription feature dimensions to some standard hidden dimension (specified by `model.model_defaults.joint_hidden`)\n",
        "\n",
        "2) Projecting this intermediate hidden dimension to the final vocabulary space to obtain the transcription.\n",
        "\n",
        "Take the following example.\n",
        "\n",
        "**BS**=32 ; **T** (after **2x** stride) = 800, **U** (with character encoding) = 400-450 tokens, Vocabulary size  **V** = 28 (26 alphabet chars, space and apostrophe). Let the hidden dimension of the Joint model be 640 (Most Google Transducer papers use hidden dimension of 640).\n",
        "\n",
        "$ Memory \\, (Hidden, \\, gb) = 32 \\times 800 \\times 450 \\times 640 \\times 4 = 29.49 $ gigabytes (4 bytes per float).\n",
        "\n",
        "$ Memory \\, (Joint, \\, gb) = 32 \\times 800 \\times 450 \\times 28 \\times 4 = 1.290 $ gigabytes (4 bytes per float)\n",
        "\n",
        "-----\n",
        "\n",
        "**NOTE**: This is just for the forward pass! We need to double this memory to store gradients! This much memory is also just for the Joint model **alone**. Far more memory is required for the Prediction model as well as the large Acoustic model itself and its gradients!\n",
        "\n",
        "Even with mixed precision, that's $\\sim 30$ GB of GPU RAM for just 1 part of the network + its gradients.\n",
        "\n",
        "---------"
      ]
    },
    {
      "cell_type": "markdown",
      "metadata": {
        "id": "ZxVlEP9eQim8"
      },
      "source": [
        "### Simple methods to reduce memory consumption\n",
        "\n",
        "------\n",
        "\n",
        "The easiest way to reduce memory consumption is to perform more downsampling in the acoustic model and use sub-word tokenization of the text to reduce the length of the target sequence.\n",
        "\n",
        "**BS**=32 ; **T** (after **8x** stride) = 200, **U** (with sub-word encoding) = 100-180 tokens, Vocabulary size  **V** = 1024.\n",
        "\n",
        "$ Memory \\, (Hidden, \\, gb) = 32 \\times 200 \\times 150 \\times 640 \\times 4 = 2.45 $ gigabytes (4 bytes per float).\n",
        "\n",
        "$ Memory \\, (Joint, \\, gb) = 32 \\times 200 \\times 150 \\times 1024 \\times 4 = 3.93 $ gigabytes (4 bytes per float)\n",
        "\n",
        "-----\n",
        "\n",
        "Using Automatic Mixed Precision, we expend just around 6-7 GB of GPU RAM on the Joint + its gradient.\n",
        "\n",
        "The above memory cost is much more tractable - but we generally want larger and larger acoustic models. It is consistently the easiest way to improve transcription accuracy. So that means on a limited 32 GB GPU, we have to partition 7 GB just for the Joint and remaining memory allocated between Transcription + Acoustic Models.\n",
        "\n"
      ]
    },
    {
      "cell_type": "markdown",
      "metadata": {
        "id": "7uPZyTENRwv9"
      },
      "source": [
        "### Fused Transcription-Joint-Loss-WER (also called Batch Splitting)\n",
        "----------\n",
        "\n",
        "The fundamental problem is that the joint tensor grows in size when `[T x U]` grows in size. This growth in memory cost is due to many reasons - either by model construction (downsampling) or the choice of dataset preprocessing (character tokenization vs. sub-word tokenization).\n",
        "\n",
        "Another dimension that NeMo can control is **batch**. Due to how we batch our samples, small and large samples all get clumped together into a single batch. So even though the individual samples are not all as long as the maximum length of T and U in that batch, when a batch of such samples is constructed, it will consume a significant amount of memory for the sake of compute efficiency.\n",
        "\n",
        "So as is always the case - **trade-off compute speed for memory savings**.\n",
        "\n",
        "------\n",
        "\n",
        "The fused operation goes as follows :\n",
        "\n",
        "1) Forward the entire acoustic model in a single pass. (Use global batch size here for acoustic model - found in `model.*_ds.batch_size`)\n",
        "\n",
        "2) Split the Acoustic Model's logits by `fused_batch_size` and loop over these sub-batches.\n",
        "\n",
        "3) Construct a sub-batch of same `fused_batch_size` for the Prediction model. Now the target sequence length is $U_{sub-batch} < U$.\n",
        "\n",
        "4) Feed this $U_{sub-batch}$ into the Joint model, along with a sub-batch from the Acoustic model (with $T_{sub-batch} < T$). Remember, we only have to slice off a part of the acoustic model here since we have the full batch of samples $(B, T, D)$ from the acoustic model.\n",
        "\n",
        "5) Performing steps (3) and (4) yields $T_{sub-batch}$ and $U_{sub-batch}$. Perform sub-batch joint step - costing an intermediate $(B, T_{sub-batch}, U_{sub-batch}, V)$ in memory.\n",
        "\n",
        "6) Compute loss on sub-batch and preserve in a list to be later concatenated.\n",
        "\n",
        "7) Compute sub-batch metrics (such as Character / Word Error Rate) using the above Joint tensor and sub-batch of ground truth labels. Preserve the scores to be averaged across the entire batch later.\n",
        "\n",
        "8) Delete the sub-batch joint matrix  $(B, T_{sub-batch}, U_{sub-batch}, V)$. Only gradients from .backward() are preserved now in the computation graph.\n",
        "\n",
        "9) Repeat steps (3) - (8) until all sub-batches are consumed.\n",
        "\n",
        "10) Cleanup step. Compute full batch WER and log. Concatenate loss list and pass to PTL to compute the equivalent of the original (full batch) Joint step. Delete ancillary objects necessary for sub-batching.\n"
      ]
    },
    {
      "cell_type": "markdown",
      "metadata": {
        "id": "0T3vHdkeWo5S"
      },
      "source": [
        "## Setting up Fused Batch step in a Transducer Config\n",
        "\n",
        "After all that discussion above, let us look at how to enable that entire pipeline in NeMo.\n",
        "\n",
        "As we can note below, it takes precisely two changes in the config to enable the fused batch step:"
      ]
    },
    {
      "cell_type": "code",
      "execution_count": null,
      "metadata": {
        "id": "Unv8-GvOWhad"
      },
      "outputs": [],
      "source": [
        "print(OmegaConf.to_yaml(config.model.joint))"
      ]
    },
    {
      "cell_type": "code",
      "execution_count": null,
      "metadata": {
        "id": "VsunP99saF5c"
      },
      "outputs": [],
      "source": [
        "# Two lines to enable the fused batch step\n",
        "config.model.joint.fuse_loss_wer = True\n",
        "config.model.joint.fused_batch_size = 16  # this can be any value (preferably less than model.*_ds.batch_size)"
      ]
    },
    {
      "cell_type": "code",
      "execution_count": null,
      "metadata": {
        "id": "yT1vJH9OkS0u"
      },
      "outputs": [],
      "source": [
        "# We will also reduce the hidden dimension of the joint and the prediction networks to preserve some memory\n",
        "config.model.model_defaults.pred_hidden = 64\n",
        "config.model.model_defaults.joint_hidden = 64"
      ]
    },
    {
      "cell_type": "markdown",
      "metadata": {
        "id": "IPb1gS3OZprs"
      },
      "source": [
        "--------\n",
        "\n",
        "Finally, since the dataset is tiny, we do not need an enormous model (the default is roughly 40 M parameters!)."
      ]
    },
    {
      "cell_type": "code",
      "execution_count": null,
      "metadata": {
        "id": "MywZQ9ADZpDW"
      },
      "outputs": [],
      "source": [
        "# Use just 128 filters across the model to speed up training and reduce parameter count\n",
        "config.model.model_defaults.filters = 128"
      ]
    },
    {
      "cell_type": "markdown",
      "metadata": {
        "id": "zUgThKbxatyg"
      },
      "source": [
        "## Initialize a Transducer ASR Model\n",
        "\n",
        "Finally, let us create a Transducer model, which is as easy as changing a line of import if you already have a script to create CTC models. We will use a small model since the dataset is just 5 hours of speech."
      ]
    },
    {
      "cell_type": "markdown",
      "metadata": {
        "id": "SH4ZfXHOdGhX"
      },
      "source": [
        "------\n",
        "\n",
        "Setup a Pytorch Lightning Trainer:"
      ]
    },
    {
      "cell_type": "code",
      "execution_count": null,
      "metadata": {
        "id": "Fmf0iSY-a6LC"
      },
      "outputs": [],
      "source": [
        "import torch\n",
        "from pytorch_lightning import Trainer\n",
        "\n",
        "if torch.cuda.is_available():\n",
        "  accelerator = 'gpu'\n",
        "else:\n",
        "  accelerator = 'gpu'\n",
        "\n",
        "EPOCHS = 50\n",
        "\n",
        "# Initialize a Trainer for the Transducer model\n",
        "trainer = Trainer(devices=1, accelerator=accelerator, max_epochs=EPOCHS,\n",
        "                  enable_checkpointing=False, logger=False,\n",
        "                  log_every_n_steps=5, check_val_every_n_epoch=10)"
      ]
    },
    {
      "cell_type": "code",
      "execution_count": null,
      "metadata": {
        "id": "jqVt4TEncEqv"
      },
      "outputs": [],
      "source": [
        "# Import the Transducer Model\n",
        "import nemo.collections.asr as nemo_asr"
      ]
    },
    {
      "cell_type": "code",
      "source": [
        "from lightning.pytorch import Trainer\n",
        "trainer = Trainer()\n",
        "print(type(trainer))  # Should output <class 'lightning.pytorch.trainer.trainer.Trainer'>"
      ],
      "metadata": {
        "id": "lFolYyivh7dw"
      },
      "execution_count": null,
      "outputs": []
    },
    {
      "cell_type": "code",
      "execution_count": null,
      "metadata": {
        "id": "RheLsmA1cRz0"
      },
      "outputs": [],
      "source": [
        "import lightning.pytorch as pl\n",
        "from lightning.pytorch import Trainer\n",
        "\n",
        "# Build the model\n",
        "model = nemo_asr.models.EncDecRNNTBPEModel(cfg=config.model, trainer=trainer)"
      ]
    },
    {
      "cell_type": "code",
      "execution_count": null,
      "metadata": {
        "id": "9eqYnTwqnRtI"
      },
      "outputs": [],
      "source": [
        "model.summarize();"
      ]
    },
    {
      "cell_type": "markdown",
      "metadata": {
        "id": "wZC2JM_8cqzR"
      },
      "source": [
        "------\n",
        "\n",
        "We now have a Transducer model ready to be trained!"
      ]
    },
    {
      "cell_type": "markdown",
      "metadata": {
        "id": "1NkfrA2l6DBF"
      },
      "source": [
        "## (Optional) Partially loading pre-trained weights from another model\n",
        "\n",
        "An interesting point to note about Transducer models - the Acoustic model config (and therefore the Acoustic model itself) can be shared between CTC and Transducer models.\n",
        "\n",
        "This means that we can initialize the weights of a Transducer's Acoustic model with weights from a pre-trained CTC encoder model.\n",
        "\n",
        "------\n",
        "\n",
        "**Note**: This step is optional and not necessary at all to train a Transducer model. Below, we show the steps that we would take if we wanted to do this, however as the loaded model has different kernel sizes compared to the current model, the checkpoint cannot be loaded."
      ]
    },
    {
      "cell_type": "code",
      "execution_count": 85,
      "metadata": {
        "id": "OAjMrbK-dtIv"
      },
      "outputs": [],
      "source": [
        "# Load a small CTC model\n",
        "# ctc_model = nemo_asr.models.EncDecCTCModelBPE.from_pretrained(\"stt_en_citrinet_256\", map_location='cpu')"
      ]
    },
    {
      "cell_type": "markdown",
      "metadata": {
        "id": "urK_ZtVKeEpR"
      },
      "source": [
        "------\n",
        "\n",
        "Then load the state dict of the CTC model's encoder into the Transducer model's encoder."
      ]
    },
    {
      "cell_type": "code",
      "execution_count": 86,
      "metadata": {
        "id": "Ugz8Y8eieLMK"
      },
      "outputs": [],
      "source": [
        "# <<< NOTE: This is only for demonstration ! >>>\n",
        "# Below cell will fail because the two model's have incompatible kernel sizes in their Conv layers.\n",
        "\n",
        "# <<< NOTE: Below cell is only shown to illustrate the method >>>\n",
        "# model.encoder.load_state_dict(ctc_model.encoder.state_dict(), strict=True)"
      ]
    },
    {
      "cell_type": "markdown",
      "metadata": {
        "id": "0VV1HNVD6DDc"
      },
      "source": [
        "# Training on AN4\n",
        "\n",
        "Now that the model is ready, we can finally train it!"
      ]
    },
    {
      "cell_type": "code",
      "execution_count": null,
      "metadata": {
        "id": "OS_U6uO-fnW9"
      },
      "outputs": [],
      "source": [
        "# Prepare NeMo's Experiment manager to handle checkpoint saving and logging for us\n",
        "from nemo.utils import exp_manager\n",
        "\n",
        "# Environment variable generally used for multi-node multi-gpu training.\n",
        "# In notebook environments, this flag is unnecessary and can cause logs of multiple training runs to overwrite each other.\n",
        "os.environ.pop('NEMO_EXPM_VERSION', None)\n",
        "\n",
        "exp_config = exp_manager.ExpManagerConfig(\n",
        "    exp_dir=f'experiments/',\n",
        "    name=f\"Transducer-Model\",\n",
        "    checkpoint_callback_params=exp_manager.CallbackParams(\n",
        "        monitor=\"val_wer\",\n",
        "        mode=\"min\",\n",
        "        always_save_nemo=True,\n",
        "        save_best_model=True,\n",
        "    ),\n",
        ")\n",
        "\n",
        "exp_config = OmegaConf.structured(exp_config)\n",
        "\n",
        "logdir = exp_manager.exp_manager(trainer, exp_config)\n"
      ]
    },
    {
      "cell_type": "code",
      "execution_count": null,
      "metadata": {
        "id": "SDleCL0Zf7lU"
      },
      "outputs": [],
      "source": [
        "try:\n",
        "  from google import colab\n",
        "  COLAB_ENV = True\n",
        "except (ImportError, ModuleNotFoundError):\n",
        "  COLAB_ENV = False\n",
        "\n",
        "# Load the TensorBoard notebook extension\n",
        "if COLAB_ENV:\n",
        "  %load_ext tensorboard\n",
        "  %tensorboard --logdir /content/experiments/Transducer-Model/\n",
        "else:\n",
        "  print(\"To use TensorBoard, please use this notebook in a Google Colab environment.\")"
      ]
    },
    {
      "cell_type": "code",
      "execution_count": null,
      "metadata": {
        "id": "hzqAsK23uYHG"
      },
      "outputs": [],
      "source": [
        "# Release resources prior to training\n",
        "import gc\n",
        "gc.collect()\n",
        "\n",
        "if accelerator == 'gpu':\n",
        "  torch.cuda.empty_cache()"
      ]
    },
    {
      "cell_type": "code",
      "execution_count": null,
      "metadata": {
        "id": "A4neHTnSgaDb"
      },
      "outputs": [],
      "source": [
        "# Train the model\n",
        "trainer.fit(model)"
      ]
    },
    {
      "cell_type": "markdown",
      "metadata": {
        "id": "k0MgsBt_NyyT"
      },
      "source": [
        "-------\n",
        "\n",
        "Lets check what the final performance on the test set."
      ]
    },
    {
      "cell_type": "code",
      "execution_count": null,
      "metadata": {
        "id": "iEjuXo4BNyOi"
      },
      "outputs": [],
      "source": [
        "trainer.test(model)"
      ]
    },
    {
      "cell_type": "markdown",
      "metadata": {
        "id": "aY6S2SdeN9Be"
      },
      "source": [
        "------\n",
        "\n",
        "The model should obtain some score between 10-12% WER after 50 epochs of training. Quite a good score for just 50 epochs of training a tiny model! Note that these are greedy scores, yet they are pretty strong for such a short training run.\n",
        "\n",
        "We can further improve these scores by using the internal Prediction network to calculate beam scores."
      ]
    },
    {
      "cell_type": "markdown",
      "metadata": {
        "id": "eQUK6b266DF0"
      },
      "source": [
        "# Changing the Decoding Strategy\n",
        "\n",
        "During training, for the sake of efficiency, we were using the `greedy_batch` decoding strategy. However, we might want to perform inference with another method - say, beam search.\n",
        "\n",
        "NeMo allows changing the decoding strategy easily after the model has been trained."
      ]
    },
    {
      "cell_type": "code",
      "execution_count": null,
      "metadata": {
        "id": "RJtrJKt0gY0i"
      },
      "outputs": [],
      "source": [
        "import copy\n",
        "\n",
        "decoding_config = copy.deepcopy(config.model.decoding)\n",
        "print(OmegaConf.to_yaml(decoding_config))"
      ]
    },
    {
      "cell_type": "code",
      "execution_count": null,
      "metadata": {
        "id": "MNL5L1KthC1E"
      },
      "outputs": [],
      "source": [
        "# Update the config for the decoding strategy\n",
        "decoding_config.strategy = \"alsd\"  # Options are `greedy`, `greedy_batch`, `beam`, `tsd` and `alsd`\n",
        "decoding_config.beam.beam_size = 4  # Increase beam size for better scores, but it will take much longer for transcription !"
      ]
    },
    {
      "cell_type": "code",
      "execution_count": null,
      "metadata": {
        "id": "xQgQRDnlhC7M"
      },
      "outputs": [],
      "source": [
        "# Finally update the model's decoding strategy !\n",
        "model.change_decoding_strategy(decoding_config)"
      ]
    },
    {
      "cell_type": "code",
      "execution_count": null,
      "metadata": {
        "id": "h7jrCMJvh8vE"
      },
      "outputs": [],
      "source": [
        "trainer.test(model)"
      ]
    },
    {
      "cell_type": "markdown",
      "metadata": {
        "id": "rPRFIeHsO8l7"
      },
      "source": [
        "------\n",
        "\n",
        "Here, we improved our scores significantly by using the `Alignment-Length Synchronous Decoding` beam search. Feel free to try the other algorithms and compare the speed-accuracy tradeoff!"
      ]
    },
    {
      "cell_type": "markdown",
      "metadata": {
        "id": "dpUoqG_G6DII"
      },
      "source": [
        "# (Extra) Extracting Transducer Model Alignments\n",
        "\n",
        "Transducers are unique in the sense that for each timestep $t \\le T$, they can emit multiple target tokens $u_t$. During training, this is represented as the $T \\times U$ joint that maps to the vocabulary $V$.\n",
        "\n",
        "During inference, there is no need to compute the full joint $T \\times U$. Instead, after the model predicts the `Transducer Blank` token at the current timestep $t$ while predicting the target token $u_t$, the model will move onto the next acoustic timestep $t + 1$. As such, we can obtain the diagonal alignment of the Transducer model per sample relatively simply.\n",
        "\n",
        "------\n",
        "\n",
        "**Note**: While alignments can be calculated for both greedy and beam search - it is non-trivial to incorporate this alignment information for beam decoding. Therefore NeMo only supports extracting alignments during greedy decoding."
      ]
    },
    {
      "cell_type": "markdown",
      "metadata": {
        "id": "jjoWXknzP7En"
      },
      "source": [
        "-----\n",
        "\n",
        "Restore model to greedy decoding for alignment calculation"
      ]
    },
    {
      "cell_type": "code",
      "execution_count": null,
      "metadata": {
        "id": "lgpsXSEeQAp4"
      },
      "outputs": [],
      "source": [
        "decoding_config.strategy = \"greedy_batch\"\n",
        "\n",
        "# Special flag which is generally disabled\n",
        "# Instruct Greedy Decoders to preserve alignment information during autoregressive decoding\n",
        "with open_dict(decoding_config):\n",
        "  decoding_config.preserve_alignments = True\n",
        "  decoding_config.fused_batch_size = -1  # temporarily stop fused batch during inference.\n",
        "\n",
        "model.change_decoding_strategy(decoding_config)"
      ]
    },
    {
      "cell_type": "markdown",
      "metadata": {
        "id": "yUD44kBtdftZ"
      },
      "source": [
        "-------\n",
        "\n",
        "Set up a test data loader that we will use to obtain the alignments for a single batch."
      ]
    },
    {
      "cell_type": "code",
      "execution_count": null,
      "metadata": {
        "id": "vrhldu5WPkvg"
      },
      "outputs": [],
      "source": [
        "test_dl = model.test_dataloader()\n",
        "test_dl = iter(test_dl)\n",
        "batch = next(test_dl)\n",
        "\n",
        "device = torch.device('cuda' if accelerator == 'gpu' else 'cpu')"
      ]
    },
    {
      "cell_type": "code",
      "execution_count": null,
      "metadata": {
        "id": "fAagUT_DPQhF"
      },
      "outputs": [],
      "source": [
        "def rnnt_alignments(model, batch):\n",
        "  model = model.to(device)\n",
        "  encoded, encoded_len = model.forward(\n",
        "                        input_signal=batch[0].to(device), input_signal_length=batch[1].to(device)\n",
        "                    )\n",
        "\n",
        "  current_hypotheses = model.decoding.rnnt_decoder_predictions_tensor(\n",
        "                        encoded, encoded_len, return_hypotheses=True\n",
        "                    )\n",
        "\n",
        "  del encoded, encoded_len\n",
        "\n",
        "  # current hypothesis is a tuple of\n",
        "  # 1) best hypothesis\n",
        "  # 2) Sorted list of hypothesis (if using beam search); None otherwise\n",
        "  return current_hypotheses"
      ]
    },
    {
      "cell_type": "code",
      "execution_count": null,
      "metadata": {
        "id": "OuSrv8lZPhwY"
      },
      "outputs": [],
      "source": [
        "# Get a batch of hypotheses, as well as a batch of all obtained hypotheses (if beam search is used)\n",
        "hypotheses, all_hypotheses = rnnt_alignments(model, batch)"
      ]
    },
    {
      "cell_type": "markdown",
      "metadata": {
        "id": "P4LknY78d3ZZ"
      },
      "source": [
        "------\n",
        "\n",
        "Select a sample ID from within the batch to observe the alignment information contained in the Hypothesis."
      ]
    },
    {
      "cell_type": "code",
      "execution_count": null,
      "metadata": {
        "id": "arE7af_DPhyy"
      },
      "outputs": [],
      "source": [
        "# Select the sample ID from within the batch\n",
        "SAMPLE_ID = 0"
      ]
    },
    {
      "cell_type": "code",
      "execution_count": null,
      "metadata": {
        "id": "S6YcE27WPh1G"
      },
      "outputs": [],
      "source": [
        "# Obtain the hypothesis for this sample, as well as some ground truth information about this sample\n",
        "hypothesis = hypotheses[SAMPLE_ID]\n",
        "original_sample_len = batch[1][SAMPLE_ID]\n",
        "ground_truth = batch[2][SAMPLE_ID]"
      ]
    },
    {
      "cell_type": "code",
      "execution_count": null,
      "metadata": {
        "id": "oEg_73h9Qe8t"
      },
      "outputs": [],
      "source": [
        "# The Hypothesis object contains a lot of useful information regarding the decoding step.\n",
        "print(hypothesis)"
      ]
    },
    {
      "cell_type": "markdown",
      "metadata": {
        "id": "VlZRFF-kQU2d"
      },
      "source": [
        "-------\n",
        "\n",
        "Now, decode the hypothesis and compare it against the ground truth text. Note - this decoded hypothesis is at *sub-word* level for this model. Therefore sub-word tokens such as `_` may be seen here."
      ]
    },
    {
      "cell_type": "code",
      "execution_count": null,
      "metadata": {
        "id": "ALuefA4XPh5O"
      },
      "outputs": [],
      "source": [
        "decoded_text = hypothesis.text\n",
        "decoded_hypothesis = model.decoding.decode_ids_to_tokens(hypothesis.y_sequence.cpu().numpy().tolist())\n",
        "decoded_ground_truth = model.decoding.tokenizer.ids_to_text(ground_truth.cpu().numpy().tolist())\n",
        "\n",
        "print(\"Decoded ground truth :\", decoded_ground_truth)\n",
        "print(\"Decoded hypothesis   :\", decoded_text)\n",
        "print(\"Decoded hyp tokens   :\", decoded_hypothesis)\n"
      ]
    },
    {
      "cell_type": "markdown",
      "metadata": {
        "id": "J1djRcGrSeAQ"
      },
      "source": [
        "---------\n",
        "\n",
        "Next we print out the 2-d alignment grid of the RNNT model:"
      ]
    },
    {
      "cell_type": "code",
      "execution_count": null,
      "metadata": {
        "id": "vl1BF52iSjEq"
      },
      "outputs": [],
      "source": [
        "alignments = hypothesis.alignments\n",
        "\n",
        "# These two values should normally always match\n",
        "print(\"Length of alignments (T): \", len(alignments))\n",
        "print(\"Length of padded acoustic model after striding : \", int(hypothesis.length))"
      ]
    },
    {
      "cell_type": "markdown",
      "metadata": {
        "id": "xkv_x8NAfpX3"
      },
      "source": [
        "------\n",
        "\n",
        "Finally, let us calculate the alignment grid. We will de-tokenize the sub-word token if it is a valid index in the vocabulary and use `''` as a placeholder for the `Transducer Blank` token.\n",
        "\n",
        "Note that each `timestep` here is (roughly) $timestep * total\\_stride\\_of\\_model * preprocessor.window\\_stride$ seconds timestamp.\n",
        "\n",
        "**Note**: You can modify the value of `config.model.loss.warprnnt_numba_kwargs.fastemit_lambda` prior to training and see an impact on final alignment latency!"
      ]
    },
    {
      "cell_type": "code",
      "execution_count": null,
      "metadata": {
        "id": "Xt5nDL55SdRL"
      },
      "outputs": [],
      "source": [
        "# Compute the alignment grid\n",
        "for ti in range(len(alignments)):\n",
        "  t_u = []\n",
        "  for uj in range(len(alignments[ti])):\n",
        "    logprob, token = alignments[ti][uj]\n",
        "    token = token.to('cpu').numpy().tolist()\n",
        "    decoded_token = model.decoding.decode_ids_to_tokens([token])[0] if token != model.decoding.blank_id else ''  # token at index len(vocab) == RNNT blank token\n",
        "    t_u.append(decoded_token)\n",
        "\n",
        "  print(f\"Tokens at timestep {ti} = {t_u}\")"
      ]
    },
    {
      "cell_type": "markdown",
      "metadata": {
        "id": "ScgUTa-16DKu"
      },
      "source": [
        "# Takeaways\n",
        "------\n",
        "\n",
        "We covered significant ground in this tutorial, but here are a few key takeaways -\n",
        "\n",
        "1) **Any CTC config can be easily converted to a Transducer config** by copy-pasting the default Transducer config components.\n",
        "\n",
        "-------\n",
        "\n",
        "2) **Dataset processing for CTC and Transducer models are the same!** If it works for CTC it works exactly the same way for Transducers. This also applies to Character-based models vs. Sub-word tokenization-based models.\n",
        "\n",
        "-------\n",
        "\n",
        "3) **Fused Batch during training and evaluation significantly reduces the need for large GPU memory**, and we can simply reduce the `fused_batch_size` to process samples at a larger acoustic (global) batch size (the maximum batch size that can be passed through the acoustic model, disregarding the Prediction and Joint models).\n",
        "\n",
        "-------\n",
        "\n",
        "4) Once trained, **transducer models implicitly can be used for beam search**! The prediction network acts as an implicit language model and can easily be used for this beam search by switching the decoding configuration.\n",
        "\n",
        "-------\n",
        "\n",
        "5) **Alignments can be easily extracted from Transducers** by adding a special flag to the Decoding setup. After this, it is quite simple to extract the 2-d alignment grid of the transducer for samples or a batch of samples. It must be noted that this alignment information does require slightly more memory, and increases decoding time by a small amount as well.\n",
        "\n",
        "-------\n",
        "\n",
        "This is just the start of our journey into Transducers. There are several improvements coming out every few months for these models, and we encourage contributions to improve the transducer framework in NeMo!"
      ]
    },
    {
      "cell_type": "markdown",
      "metadata": {
        "id": "gFvHVBIi4pRr"
      },
      "source": [
        "# Next Steps\n",
        "\n",
        "Head on over to the `examples/asr` directory in the NeMo repository in order to find the training scripts for Transducer based models - `sppech_to_text_rnnt.py` (for Character decoding based Transducer models) and `speech_to_text_rnnt_bpe.py` (for Sub-word decoding based Transducer models).\n",
        "\n",
        "You will find that following many of the steps from CTC models, and simply modifying the config to include the Transducer components, we can train character or sub-word based transducer models with the same flexibility as we can train CTC models !"
      ]
    }
  ],
  "metadata": {
    "accelerator": "GPU",
    "colab": {
      "collapsed_sections": [
        "V5sMoFHmVvhg"
      ],
      "name": "ASR-with-Transducers.ipynb",
      "provenance": [],
      "gpuType": "T4"
    },
    "kernelspec": {
      "display_name": "Python 3",
      "name": "python3"
    },
    "language_info": {
      "name": "python"
    }
  },
  "nbformat": 4,
  "nbformat_minor": 0
}